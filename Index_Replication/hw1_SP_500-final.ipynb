{
 "cells": [
  {
   "cell_type": "markdown",
   "metadata": {},
   "source": [
    "# S&P 500 Replication"
   ]
  },
  {
   "cell_type": "markdown",
   "metadata": {},
   "source": [
    "Import Packages"
   ]
  },
  {
   "cell_type": "code",
   "execution_count": 1,
   "metadata": {},
   "outputs": [],
   "source": [
    "import pandas as pd\n",
    "import numpy as np\n",
    "import matplotlib.pyplot as plt\n",
    "import seaborn as sns;sns.set_theme()"
   ]
  },
  {
   "cell_type": "markdown",
   "metadata": {},
   "source": [
    "## Read in Data\n",
    "* All the tickers for S&P 500\n",
    "* Data File containing daily information for the relevant companies from 2010/12/31-2020/12/31\n",
    "  * Prices, tickers, dividends, stock splits, and market_cap."
   ]
  },
  {
   "cell_type": "code",
   "execution_count": 2,
   "metadata": {},
   "outputs": [],
   "source": [
    "# Get tickers for S&P\n",
    "ticker_list_all = list(pd.read_csv('spy_ticker.txt',header=None).iloc[:,0]) \n",
    "\n",
    "# Read in the stock data and convert date variables to datetime\n",
    "df = pd.read_csv('stock_data.csv')\n",
    "# Converting some cols to date time\n",
    "df['datadate'] = pd.to_datetime(df.datadate)\n",
    "df = df.set_index(['datadate']) # This makes stuff easier to do later on"
   ]
  },
  {
   "cell_type": "code",
   "execution_count": 7,
   "metadata": {},
   "outputs": [
    {
     "data": {
      "text/html": [
       "<div>\n",
       "<style scoped>\n",
       "    .dataframe tbody tr th:only-of-type {\n",
       "        vertical-align: middle;\n",
       "    }\n",
       "\n",
       "    .dataframe tbody tr th {\n",
       "        vertical-align: top;\n",
       "    }\n",
       "\n",
       "    .dataframe thead th {\n",
       "        text-align: right;\n",
       "    }\n",
       "</style>\n",
       "<table border=\"1\" class=\"dataframe\">\n",
       "  <thead>\n",
       "    <tr style=\"text-align: right;\">\n",
       "      <th></th>\n",
       "      <th>tic</th>\n",
       "      <th>conm</th>\n",
       "      <th>div</th>\n",
       "      <th>cshoc</th>\n",
       "      <th>prccd</th>\n",
       "      <th>ajexdi</th>\n",
       "      <th>market_cap</th>\n",
       "    </tr>\n",
       "    <tr>\n",
       "      <th>datadate</th>\n",
       "      <th></th>\n",
       "      <th></th>\n",
       "      <th></th>\n",
       "      <th></th>\n",
       "      <th></th>\n",
       "      <th></th>\n",
       "      <th></th>\n",
       "    </tr>\n",
       "  </thead>\n",
       "  <tbody>\n",
       "    <tr>\n",
       "      <th>2010-01-04</th>\n",
       "      <td>A</td>\n",
       "      <td>AGILENT TECHNOLOGIES INC</td>\n",
       "      <td>NaN</td>\n",
       "      <td>348831000.0</td>\n",
       "      <td>31.30</td>\n",
       "      <td>1.0</td>\n",
       "      <td>1.091841e+10</td>\n",
       "    </tr>\n",
       "    <tr>\n",
       "      <th>2010-01-05</th>\n",
       "      <td>A</td>\n",
       "      <td>AGILENT TECHNOLOGIES INC</td>\n",
       "      <td>NaN</td>\n",
       "      <td>348831000.0</td>\n",
       "      <td>30.96</td>\n",
       "      <td>1.0</td>\n",
       "      <td>1.079981e+10</td>\n",
       "    </tr>\n",
       "    <tr>\n",
       "      <th>2010-01-06</th>\n",
       "      <td>A</td>\n",
       "      <td>AGILENT TECHNOLOGIES INC</td>\n",
       "      <td>NaN</td>\n",
       "      <td>348831000.0</td>\n",
       "      <td>30.85</td>\n",
       "      <td>1.0</td>\n",
       "      <td>1.076144e+10</td>\n",
       "    </tr>\n",
       "    <tr>\n",
       "      <th>2010-01-07</th>\n",
       "      <td>A</td>\n",
       "      <td>AGILENT TECHNOLOGIES INC</td>\n",
       "      <td>NaN</td>\n",
       "      <td>348831000.0</td>\n",
       "      <td>30.81</td>\n",
       "      <td>1.0</td>\n",
       "      <td>1.074748e+10</td>\n",
       "    </tr>\n",
       "    <tr>\n",
       "      <th>2010-01-08</th>\n",
       "      <td>A</td>\n",
       "      <td>AGILENT TECHNOLOGIES INC</td>\n",
       "      <td>NaN</td>\n",
       "      <td>348831000.0</td>\n",
       "      <td>30.80</td>\n",
       "      <td>1.0</td>\n",
       "      <td>1.074399e+10</td>\n",
       "    </tr>\n",
       "    <tr>\n",
       "      <th>...</th>\n",
       "      <td>...</td>\n",
       "      <td>...</td>\n",
       "      <td>...</td>\n",
       "      <td>...</td>\n",
       "      <td>...</td>\n",
       "      <td>...</td>\n",
       "      <td>...</td>\n",
       "    </tr>\n",
       "    <tr>\n",
       "      <th>2021-10-01</th>\n",
       "      <td>ZTS</td>\n",
       "      <td>ZOETIS INC</td>\n",
       "      <td>NaN</td>\n",
       "      <td>473944000.0</td>\n",
       "      <td>196.19</td>\n",
       "      <td>1.0</td>\n",
       "      <td>9.298307e+10</td>\n",
       "    </tr>\n",
       "    <tr>\n",
       "      <th>2021-10-04</th>\n",
       "      <td>ZTS</td>\n",
       "      <td>ZOETIS INC</td>\n",
       "      <td>NaN</td>\n",
       "      <td>473944000.0</td>\n",
       "      <td>193.69</td>\n",
       "      <td>1.0</td>\n",
       "      <td>9.179821e+10</td>\n",
       "    </tr>\n",
       "    <tr>\n",
       "      <th>2021-10-05</th>\n",
       "      <td>ZTS</td>\n",
       "      <td>ZOETIS INC</td>\n",
       "      <td>NaN</td>\n",
       "      <td>473944000.0</td>\n",
       "      <td>196.46</td>\n",
       "      <td>1.0</td>\n",
       "      <td>9.311104e+10</td>\n",
       "    </tr>\n",
       "    <tr>\n",
       "      <th>2021-10-06</th>\n",
       "      <td>ZTS</td>\n",
       "      <td>ZOETIS INC</td>\n",
       "      <td>NaN</td>\n",
       "      <td>473944000.0</td>\n",
       "      <td>195.78</td>\n",
       "      <td>1.0</td>\n",
       "      <td>9.278876e+10</td>\n",
       "    </tr>\n",
       "    <tr>\n",
       "      <th>2021-10-07</th>\n",
       "      <td>ZTS</td>\n",
       "      <td>ZOETIS INC</td>\n",
       "      <td>NaN</td>\n",
       "      <td>473944000.0</td>\n",
       "      <td>199.01</td>\n",
       "      <td>1.0</td>\n",
       "      <td>9.431960e+10</td>\n",
       "    </tr>\n",
       "  </tbody>\n",
       "</table>\n",
       "<p>1429166 rows × 7 columns</p>\n",
       "</div>"
      ],
      "text/plain": [
       "            tic                      conm  div        cshoc   prccd  ajexdi  \\\n",
       "datadate                                                                      \n",
       "2010-01-04    A  AGILENT TECHNOLOGIES INC  NaN  348831000.0   31.30     1.0   \n",
       "2010-01-05    A  AGILENT TECHNOLOGIES INC  NaN  348831000.0   30.96     1.0   \n",
       "2010-01-06    A  AGILENT TECHNOLOGIES INC  NaN  348831000.0   30.85     1.0   \n",
       "2010-01-07    A  AGILENT TECHNOLOGIES INC  NaN  348831000.0   30.81     1.0   \n",
       "2010-01-08    A  AGILENT TECHNOLOGIES INC  NaN  348831000.0   30.80     1.0   \n",
       "...         ...                       ...  ...          ...     ...     ...   \n",
       "2021-10-01  ZTS                ZOETIS INC  NaN  473944000.0  196.19     1.0   \n",
       "2021-10-04  ZTS                ZOETIS INC  NaN  473944000.0  193.69     1.0   \n",
       "2021-10-05  ZTS                ZOETIS INC  NaN  473944000.0  196.46     1.0   \n",
       "2021-10-06  ZTS                ZOETIS INC  NaN  473944000.0  195.78     1.0   \n",
       "2021-10-07  ZTS                ZOETIS INC  NaN  473944000.0  199.01     1.0   \n",
       "\n",
       "              market_cap  \n",
       "datadate                  \n",
       "2010-01-04  1.091841e+10  \n",
       "2010-01-05  1.079981e+10  \n",
       "2010-01-06  1.076144e+10  \n",
       "2010-01-07  1.074748e+10  \n",
       "2010-01-08  1.074399e+10  \n",
       "...                  ...  \n",
       "2021-10-01  9.298307e+10  \n",
       "2021-10-04  9.179821e+10  \n",
       "2021-10-05  9.311104e+10  \n",
       "2021-10-06  9.278876e+10  \n",
       "2021-10-07  9.431960e+10  \n",
       "\n",
       "[1429166 rows x 7 columns]"
      ]
     },
     "execution_count": 7,
     "metadata": {},
     "output_type": "execute_result"
    }
   ],
   "source": [
    "df# Let's see what we're working with."
   ]
  },
  {
   "cell_type": "markdown",
   "metadata": {},
   "source": [
    "### Set Portfolio Parameters\n",
    "\n"
   ]
  },
  {
   "cell_type": "code",
   "execution_count": 4,
   "metadata": {},
   "outputs": [],
   "source": [
    "INITIAL_PORTFOLIO_VALUE = 100_000_000\n",
    "PORTFOLIO_START_DATE = pd.to_datetime('12-31-2010')\n",
    "PORTFOLIO_END_DATE = pd.to_datetime('12-31-2020')\n",
    "# TRANSACTION_COST_PER_TRADE = .001 \n",
    "\n",
    "\n",
    "#Get the quarter end dates to rebalance and yearly dates for reconstitution\n",
    "reconstitution_dates = pd.date_range(PORTFOLIO_START_DATE,PORTFOLIO_END_DATE,freq='BY')\n",
    "rebalance_dates = pd.date_range(PORTFOLIO_START_DATE,PORTFOLIO_END_DATE,freq='BQ')\n",
    "all_business_dates = pd.date_range(PORTFOLIO_START_DATE,PORTFOLIO_END_DATE,freq='B')\n",
    "\n",
    "# Make sure to only use business dates that are in our data file\n",
    "all_business_dates = [date for date in all_business_dates if date in df.index]"
   ]
  },
  {
   "cell_type": "markdown",
   "metadata": {},
   "source": [
    "### Now, here are a bunch of helper functions that are used when iterating through each date and updating the portfolio:"
   ]
  },
  {
   "cell_type": "code",
   "execution_count": 5,
   "metadata": {},
   "outputs": [],
   "source": [
    "\n",
    "\n",
    "def get_ticker_indexed_series(date, df:pd.DataFrame):\n",
    "    \"\"\"Helper function to filter a df by only the date we want and make the index the tickers for easy lookup\"\"\"\n",
    "    return df.loc[[date]].set_index(['tic']) # # Only look at the date we want\n",
    "\n",
    "\n",
    "def get_index_weights(ticker_list, date, df:pd.DataFrame):\n",
    "    \"\"\"Send in a ticker list, along with date and spit out series with the tickers and their weights\"\"\"\n",
    "\n",
    "    df = get_ticker_indexed_series(date, df)['market_cap'] # Get market caps for all tickers on that date\n",
    "    df = df[df.index.isin(ticker_list)] # Filter for relevant securities\n",
    "    weight_series = df/df.sum() # Get their weights\n",
    "\n",
    "    return weight_series\n",
    "\n",
    "\n",
    "def get_rebalanced_share_counts(date, portfolio_weights:pd.Series, df:pd.DataFrame , portfolio_value:float):\n",
    "    \"\"\"This function is used to calculate the new share counts that the portfolio will have after rebalancing to \n",
    "    the specified weights.\n",
    "    \"\"\"\n",
    "\n",
    "    tickers = list(portfolio_weights.index) \n",
    "\n",
    "    prices = get_ticker_indexed_series(date, df)['prccd']\n",
    "    prices = prices[prices.index.isin(tickers)]\n",
    "\n",
    "    dollars_per_security = port_weights * portfolio_value\n",
    "    desired_shares = np.floor(dollars_per_security / prices)\n",
    "    total_value_of_shares = (desired_shares * prices).sum()\n",
    "    cash_leftover = portfolio_value - total_value_of_shares\n",
    "\n",
    "    desired_share_counts = get_zeroed_share_counts_series()\n",
    "    desired_share_counts[desired_shares.index] = desired_shares\n",
    "    desired_share_counts.loc['PORT_CASH'] = cash_leftover\n",
    "\n",
    "    return desired_share_counts\n",
    "\n",
    "\n",
    "\n",
    "def calculate_portfolio_value(price_date, df:pd.DataFrame, share_count_series:pd.Series, previous_wealth:float):\n",
    "    \"\"\"Calculate portfolio value based on the date sent in an the share counts you currently have\"\"\"\n",
    "    prices = get_ticker_indexed_series(price_date, df)['prccd']\n",
    "    value_of_stocks = (share_count_series * prices).sum()\n",
    "    cash = share_count_series['PORT_CASH'] \n",
    "    calculated_wealth = value_of_stocks + cash\n",
    "\n",
    "    # This is super hacky, I know. But for 3 of the dates, there are no prices and it makes the wealth almost nothing\n",
    "    # So the below condition will just return the previous day wealth if it is way to small to be realistic\n",
    "    if calculated_wealth/previous_wealth < .05:\n",
    "        return previous_wealth\n",
    "    else:\n",
    "        return calculated_wealth\n",
    "\n",
    "\n",
    "def calculate_dividends_received(date, df:pd.DataFrame , share_counts_series:pd.Series):\n",
    "    \"\"\"Return amount of cash dividends received on the given date based on the shares in portfolio. Returns the total amount.\"\"\"\n",
    "    df = get_ticker_indexed_series(date, df)\n",
    "    divs_per_stock = df['div'] * share_counts_series\n",
    "    total_dividends = divs_per_stock.sum()\n",
    "    return total_dividends\n",
    "\n",
    "\n",
    "def get_biggest_companies(date, df:pd.DataFrame, number_companies=10):\n",
    "    \"\"\"Return a dataframe of the biggest companies by market cap at that time you send in.\"\"\"\n",
    "    df = get_ticker_indexed_series(date, df)\n",
    "    top_companies_df = df.sort_values('market_cap', ascending=False)[:number_companies]\n",
    "    return top_companies_df\n",
    "\n",
    "def get_additional_shares_from_div_reinvestment(date, dividend_amount:float, df:pd.DataFrame):\n",
    "    \"\"\"Takes in the current share counts at that date and icnreases them as necessary. Invest in 10 biggest stocks by market cap at that date\"\"\"\n",
    "    \n",
    "    ten_biggest_stocks_df = get_biggest_companies(date, df, number_companies=10)\n",
    "\n",
    "    weights_to_invest = ten_biggest_stocks_df['market_cap']/ten_biggest_stocks_df['market_cap'].sum() # Invest in proportion of their market caps\n",
    "    dollars_per_stock = weights_to_invest * dividend_amount \n",
    "\n",
    "    shares_to_purchase = np.floor(dollars_per_stock / ten_biggest_stocks_df['prccd'])\n",
    "    cash_leftover = dividend_amount - (shares_to_purchase * ten_biggest_stocks_df['prccd']).sum()\n",
    "\n",
    "    # Now put those shares into a series and return it\n",
    "    additional_shares = get_zeroed_share_counts_series()\n",
    "    additional_shares[shares_to_purchase.index] = shares_to_purchase \n",
    "    additional_shares.loc['PORT_CASH'] = cash_leftover\n",
    "\n",
    "    return additional_shares\n",
    "\n",
    "\n",
    "def get_shares_adjusted_for_splits(today, previous_day, df:pd.DataFrame, share_count:pd.Series):\n",
    "    \"\"\"This function is used to calculate the new share counts, based on if there were any splits on that day\n",
    "    You s\n",
    "    \"\"\"\n",
    "    new_share_counts = share_count.copy()\n",
    "    today_factors = get_ticker_indexed_series(today, df)['ajexdi'].dropna()\n",
    "    yesterday_factors = get_ticker_indexed_series(previous_day, df)['ajexdi'].dropna()\n",
    "\n",
    "    if len(today_factors) != len(yesterday_factors): # If the lengths of these dbs are different then there is weird stuff so just send back the originals\n",
    "        return new_share_counts\n",
    "\n",
    "    adjustment_factors = yesterday_factors/today_factors # New shares are a multiple of yesterday's factor divided by today\n",
    "    new_share_counts[adjustment_factors.index] = adjustment_factors * new_share_counts[adjustment_factors.index] # Update the relevant share counts by the factor if returned a value\n",
    "\n",
    "    return new_share_counts\n",
    "\n",
    "def get_zeroed_share_counts_series():\n",
    "    \"\"\"Helper function to create a series with all the tickers as the index and the values are all zeros\"\"\"\n",
    "    return pd.Series(data=np.zeros(len(ticker_list_all)+1),index=ticker_list_all+ ['PORT_CASH'])\n",
    "\n"
   ]
  },
  {
   "cell_type": "markdown",
   "metadata": {},
   "source": [
    "## Now the fun begins:\n",
    "We loop through all of the dates in the time horizon, for each date, we do several things:\n",
    "* Calculate any dividends that have been received based on the shares currently held in the portfolio.\n",
    "* Reinvest those dividends into new shares where the new shares purchased are selected from the top 10 companies by market cap on the date the dividends were received.\n",
    "* Adjust the shares in the portfolio based on any share splits that took place.\n",
    "* Calculate the total portfolio value at that date and store it in a series for later reference\n",
    "* Then, check if the day is a reconsitution date, if it is, then you will now set your the top 250 companies on that day as your new reference list to replicate the S&P\n",
    "* Finally, if you are on a rebalancing date, you rebalance the shares to match the market cap weighted index of top 250 companies."
   ]
  },
  {
   "cell_type": "markdown",
   "metadata": {},
   "source": [
    "## WARNING!!!!!!!!!!\n",
    "Below cell takes like 15-20 minutes to run. Be wary."
   ]
  },
  {
   "cell_type": "code",
   "execution_count": null,
   "metadata": {},
   "outputs": [],
   "source": [
    "# Set some intitial parameters for the portfolio which are necessary for the below loop to work properly.\n",
    "#------------------------------------------------------------------------------------------------------\n",
    "\n",
    "# Below data frame which will hold share counts for all of the tickers we have + a column to indicate the cash in the portfolio at that date\n",
    "portfolio_df = pd.DataFrame(data=np.zeros((len(all_business_dates),len(ticker_list_all)+1)),columns=ticker_list_all + ['PORT_CASH'], index=all_business_dates)\n",
    "all_wealths = pd.Series() # Used to track how wealth changes over time\n",
    "\n",
    "\n",
    "index_constituents = list(get_biggest_companies(PORTFOLIO_START_DATE, df, number_companies=250).index) # Set initial list\n",
    "portfolio_weights = get_index_weights(index_constituents, PORTFOLIO_START_DATE,df) # Set initial weights\n",
    "\n",
    "share_counts = get_zeroed_share_counts_series() # Set initial share counts\n",
    "share_counts.loc['PORT_CASH'] = INITIAL_PORTFOLIO_VALUE\n",
    "\n",
    "previous_day = PORTFOLIO_START_DATE\n",
    "previous_wealth = INITIAL_PORTFOLIO_VALUE\n",
    "#------------------------------------------------------------------------------------------------------\n",
    "\n",
    "\n",
    "for day in all_business_dates:\n",
    "\n",
    "    dividend_dollar_amount = calculate_dividends_received(day, df, share_counts) # Collect the days dividends based on yesterday's shares\n",
    "\n",
    "    # Below will adjust current share counts based on if there was a share split\n",
    "    share_counts = get_shares_adjusted_for_splits(day, previous_day, df, share_counts)\n",
    "\n",
    "    # Reinvest those dividends that were received in the 10 biggest stocks\n",
    "    if dividend_dollar_amount > 0:\n",
    "        additional_shares = get_additional_shares_from_div_reinvestment(day, dividend_dollar_amount, df) \n",
    "        share_counts = share_counts + additional_shares\n",
    "    \n",
    "    # Calculate wealth to store in wealth series, and which may be needed later on for rebalancing\n",
    "    total_portfolio_value = calculate_portfolio_value(day, df , share_counts, previous_wealth)\n",
    "\n",
    "    all_wealths.loc[day] = total_portfolio_value # Store the wealth value of portfolio here for later analysis\n",
    "\n",
    "    if day in reconstitution_dates: # Get new index memebers if necessary.\n",
    "        # We will use the 250 biggest companies on the day of reconstitution\n",
    "        index_constituents = list(get_biggest_companies(day, df, number_companies=250).index)\n",
    "        all_wealths.to_csv('sp_wealths.csv')\n",
    "        print(f'------Getting reconsitution for S&P for: {day} ----------')\n",
    "        \n",
    "\n",
    "    if day in rebalance_dates:\n",
    "        port_weights = get_index_weights(index_constituents, day, df) # Get new portfolio weights\n",
    "        share_counts = get_rebalanced_share_counts(day, port_weights, df, total_portfolio_value) # Get new share counts\n",
    "\n",
    "\n",
    "    portfolio_df.loc[day] = share_counts # Get the updated share counts that we use to calculate tomorrow's portfolio value and dividends\n",
    "    previous_day = day # Update previous day for next loop\n",
    "    previous_wealth = total_portfolio_value # Set previous wealth for the next loop\n",
    "    \n",
    "    \n",
    "# portfolio_df.to_csv('sp_portfolio.csv')\n",
    "# all_wealths.to_csv('sp_wealths.csv')\n",
    "\n"
   ]
  },
  {
   "cell_type": "markdown",
   "metadata": {},
   "source": [
    "## Portfolio Returns VS. Index, Mutual Fund, and ETF"
   ]
  },
  {
   "cell_type": "markdown",
   "metadata": {},
   "source": [
    "First, get all returns into a data frame. The returns for the index, mutual fund and etf are in separate csv files so we have to read those in and do some data wrangling before we can compare them."
   ]
  },
  {
   "cell_type": "code",
   "execution_count": 175,
   "metadata": {},
   "outputs": [],
   "source": [
    "returns_df = all_wealths.copy() # This is if you get data from above\n",
    "returns_df = pd.read_csv('sp_wealths.csv') #Comment this out if you use the above. It's the same data, just from different places\n",
    "\n",
    "returns_df.columns = ['date', 'wealth']\n",
    "returns_df.index = pd.to_datetime(returns_df['date'])\n",
    "returns_df = returns_df.drop(columns='date')\n",
    "returns_df['Portfolio'] = returns_df.pct_change()\n",
    "returns_df = returns_df.dropna()\n",
    "\n",
    "#Index\n",
    "sp = pd.read_csv('sp500_data.csv')\n",
    "sp_returns = sp[['caldt','sprtrn']].copy()\n",
    "sp_returns['date'] = pd.to_datetime(sp['caldt'].astype(str), format='%Y%m%d')\n",
    "sp_returns.index = sp_returns['date']\n",
    "sp_returns.drop(columns=['caldt','date'], inplace=True)\n",
    "sp_returns.columns = ['sp_500_index']\n",
    "\n",
    "returns_df = returns_df.merge(sp_returns, left_index=True, right_index=True)\n",
    "\n",
    "# Mutual Fund\n",
    "mutual = pd.read_csv('mutual_fund.csv')\n",
    "mutual_returns = mutual[['dret','caldt']].copy()\n",
    "mutual_returns['date'] = pd.to_datetime(mutual_returns['caldt'].astype(str), format='%Y%m%d')\n",
    "mutual_returns.index = mutual_returns['date']\n",
    "mutual_returns.drop(columns=['caldt','date'], inplace=True)\n",
    "mutual_returns.columns = ['sp_500_mutual']\n",
    "\n",
    "returns_df = returns_df.merge(mutual_returns, left_index=True, right_index=True)\n",
    "\n",
    "\n",
    "# ETF\n",
    "etf = pd.read_csv('VOO_data.csv')\n",
    "etf = etf[['date','RET']].copy()\n",
    "etf['date'] = pd.to_datetime(etf['date'].astype(str), format='%Y%m%d')\n",
    "etf.index = etf['date']\n",
    "etf.drop(columns=['date'], inplace=True)\n",
    "etf.columns = ['sp_500_etf']\n",
    "returns_df = returns_df.merge(etf, left_index=True, right_index=True)\n",
    "returns_df = returns_df.drop(columns='wealth')"
   ]
  },
  {
   "cell_type": "code",
   "execution_count": 177,
   "metadata": {},
   "outputs": [],
   "source": [
    "daily_return_mean = returns_df[['Portfolio','sp_500_index','sp_500_mutual', 'sp_500_etf']].mean()\n",
    "standard_deviation_returns = returns_df[['Portfolio','sp_500_index','sp_500_mutual', 'sp_500_etf']].std()"
   ]
  },
  {
   "cell_type": "markdown",
   "metadata": {},
   "source": [
    "Annualized returns:\n"
   ]
  },
  {
   "cell_type": "code",
   "execution_count": 178,
   "metadata": {},
   "outputs": [
    {
     "data": {
      "text/plain": [
       "Portfolio        0.137745\n",
       "sp_500_index     0.117623\n",
       "sp_500_mutual    0.118851\n",
       "sp_500_etf       0.117517\n",
       "dtype: float64"
      ]
     },
     "execution_count": 178,
     "metadata": {},
     "output_type": "execute_result"
    }
   ],
   "source": [
    "daily_return_mean*252"
   ]
  },
  {
   "cell_type": "markdown",
   "metadata": {},
   "source": [
    "Annualized Standard Deviation"
   ]
  },
  {
   "cell_type": "code",
   "execution_count": 179,
   "metadata": {},
   "outputs": [
    {
     "data": {
      "text/plain": [
       "Portfolio        0.165535\n",
       "sp_500_index     0.167073\n",
       "sp_500_mutual    0.159978\n",
       "sp_500_etf       0.166576\n",
       "dtype: float64"
      ]
     },
     "execution_count": 179,
     "metadata": {},
     "output_type": "execute_result"
    }
   ],
   "source": [
    "standard_deviation_returns * np.sqrt(252)"
   ]
  },
  {
   "cell_type": "markdown",
   "metadata": {},
   "source": [
    "### Tracking Errors:\n"
   ]
  },
  {
   "cell_type": "code",
   "execution_count": 170,
   "metadata": {},
   "outputs": [
    {
     "name": "stdout",
     "output_type": "stream",
     "text": [
      "Tracking Error for the index is: 0.010548857387807269\n",
      "Tracking Error for the mutual fund is: 0.0292902755393945\n",
      "Tracking Error for the ETF is: 0.017545739612290567\n"
     ]
    }
   ],
   "source": [
    "index_t_error_annualized = (returns_df['Portfolio'] - returns_df['sp_500_index']).std() * np.sqrt(252)\n",
    "mutual_t_error_annualized = (returns_df['Portfolio'] - returns_df['sp_500_mutual']).std() * np.sqrt(252)\n",
    "etf_t_error_annualized = (returns_df['Portfolio'] - returns_df['sp_500_etf']).std() * np.sqrt(252)\n",
    "print(f'Tracking Error for the index is: {index_t_error_annualized}')\n",
    "print(f'Tracking Error for the mutual fund is: {mutual_t_error_annualized}')\n",
    "print(f'Tracking Error for the ETF is: {etf_t_error_annualized}')"
   ]
  },
  {
   "cell_type": "markdown",
   "metadata": {},
   "source": [
    "## Plot Cumulative Returns against each other:"
   ]
  },
  {
   "cell_type": "code",
   "execution_count": 187,
   "metadata": {},
   "outputs": [
    {
     "data": {
      "text/plain": [
       "Text(0.5, 1.0, 'Cumulative Return of $1')"
      ]
     },
     "execution_count": 187,
     "metadata": {},
     "output_type": "execute_result"
    },
    {
     "data": {
      "image/png": "[encoded data removed]",
      "text/plain": [
       "<Figure size 1584x360 with 1 Axes>"
      ]
     },
     "metadata": {},
     "output_type": "display_data"
    }
   ],
   "source": [
    "# First, getting cumulative returns\n",
    "returns_df['Replicating_Portfolio'] = np.cumproduct(returns_df['Portfolio'] + 1)\n",
    "returns_df['S&P_Index'] = np.cumproduct(returns_df['sp_500_index'] + 1)\n",
    "returns_df['S&P_Mutual_Fund'] = np.cumproduct(returns_df['sp_500_etf'] + 1)\n",
    "returns_df['S&P_ETF'] = np.cumproduct(returns_df['sp_500_mutual'] + 1)\n",
    "\n",
    "returns_df[['Replicating_Portfolio','S&P_Index','S&P_Mutual_Fund','S&P_ETF']].plot(figsize=(22,5))\n",
    "plt.title('Cumulative Return of $1')\n",
    "# plt.xlabel('Date')\n",
    "# plt.ylabel('Return')"
   ]
  }
 ],
 "metadata": {
  "interpreter": {
   "hash": "2647ea34e536f865ab67ff9ddee7fd78773d956cec0cab53c79b32cd10da5d83"
  },
  "kernelspec": {
   "display_name": "Python 3.9.5 64-bit",
   "name": "python3"
  },
  "language_info": {
   "codemirror_mode": {
    "name": "ipython",
    "version": 3
   },
   "file_extension": ".py",
   "mimetype": "text/x-python",
   "name": "python",
   "nbconvert_exporter": "python",
   "pygments_lexer": "ipython3",
   "version": "3.9.5"
  },
  "orig_nbformat": 4
 },
 "nbformat": 4,
 "nbformat_minor": 2
}
